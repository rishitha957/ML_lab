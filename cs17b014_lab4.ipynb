{
 "cells": [
  {
   "cell_type": "markdown",
   "metadata": {},
   "source": [
    "# LAB - 4"
   ]
  },
  {
   "cell_type": "code",
   "execution_count": 55,
   "metadata": {},
   "outputs": [],
   "source": [
    "import matplotlib.pyplot as plt\n",
    "import numpy as np\n",
    "from scipy.optimize import minimize\n",
    "from sklearn import datasets"
   ]
  },
  {
   "cell_type": "code",
   "execution_count": 2,
   "metadata": {},
   "outputs": [],
   "source": [
    "W_exp = np.array([[1,2],[3,-2],[-1,2]]).T"
   ]
  },
  {
   "cell_type": "code",
   "execution_count": 3,
   "metadata": {},
   "outputs": [
    {
     "name": "stdout",
     "output_type": "stream",
     "text": [
      "(100, 1)\n",
      "(100, 1)\n",
      "(100, 2)\n"
     ]
    }
   ],
   "source": [
    "x = np.linspace(0,100,100).reshape(-1,1)\n",
    "print(x.shape)\n",
    "ones = np.ones(100).reshape(-1,1)\n",
    "print(ones.shape)\n",
    "X = np.concatenate((x,ones),axis=1)\n",
    "print(X.shape)\n",
    "\n",
    "y_exp = np.matmul(X,W_exp)"
   ]
  },
  {
   "cell_type": "code",
   "execution_count": 4,
   "metadata": {},
   "outputs": [],
   "source": [
    "def err_fun(w):\n",
    "    w1 = w.reshape(2,3)\n",
    "    tmp = np.matmul(X,w1)\n",
    "    out = np.sum((tmp - y_exp)**2).reshape(1,-1)\n",
    "    return out"
   ]
  },
  {
   "cell_type": "code",
   "execution_count": 5,
   "metadata": {},
   "outputs": [
    {
     "name": "stdout",
     "output_type": "stream",
     "text": [
      "[[ 0.99999997  2.99999997 -1.00000003]\n",
      " [ 2.00000144 -1.99999856  2.00000144]]\n"
     ]
    }
   ],
   "source": [
    "w_init = np.random.rand(W_exp.size).reshape(2,3)\n",
    "res = minimize(fun = err_fun, x0 = w_init)\n",
    "w_predicted = res.x.reshape(2,3)\n",
    "print(w_predicted)"
   ]
  },
  {
   "cell_type": "code",
   "execution_count": 6,
   "metadata": {},
   "outputs": [
    {
     "data": {
      "text/plain": [
       "[<matplotlib.lines.Line2D at 0x7fbd4f1b8be0>]"
      ]
     },
     "execution_count": 6,
     "metadata": {},
     "output_type": "execute_result"
    },
    {
     "data": {
      "image/png": "[encoded data removed]",
      "text/plain": [
       "<Figure size 432x288 with 2 Axes>"
      ]
     },
     "metadata": {
      "needs_background": "light"
     },
     "output_type": "display_data"
    }
   ],
   "source": [
    "plt.subplot(121)\n",
    "plt.title(\"Predicted\")\n",
    "\n",
    "plt.plot(x,y_exp[:,0],'b')\n",
    "plt.plot(x,y_exp[:,1],'y')\n",
    "plt.plot(x,y_exp[:,2],'m')\n",
    "\n",
    "y_pred = np.matmul(X,w_predicted)\n",
    "\n",
    "plt.subplot(122)\n",
    "plt.title(\"Ground Truth\")\n",
    "\n",
    "plt.plot(x,y_pred[:,0],'b')\n",
    "plt.plot(x,y_pred[:,1],'y')\n",
    "plt.plot(x,y_pred[:,2],'m')"
   ]
  },
  {
   "cell_type": "markdown",
   "metadata": {},
   "source": [
    "### Multivariate regression for k variate polynomial with degree d"
   ]
  },
  {
   "cell_type": "code",
   "execution_count": 30,
   "metadata": {},
   "outputs": [],
   "source": [
    "#Setting up the dimension X = nxm; W = mxk; Y = nxK\n",
    "n = 100\n",
    "d = 6\n",
    "m = d+1\n",
    "k = 10"
   ]
  },
  {
   "cell_type": "markdown",
   "metadata": {},
   "source": [
    "### Generating Matrix X for d degree polynomial"
   ]
  },
  {
   "cell_type": "code",
   "execution_count": 31,
   "metadata": {},
   "outputs": [
    {
     "name": "stdout",
     "output_type": "stream",
     "text": [
      "(100, 7)\n"
     ]
    }
   ],
   "source": [
    "#Generating X matrix\n",
    "\n",
    "x = np.linspace(0,100,100).reshape(-1,1)\n",
    "\n",
    "def gen_Xmatrix(d):\n",
    "    X = np.power(x,d)\n",
    "    d-=1\n",
    "    while(d>=1):\n",
    "        d-=1\n",
    "        temp = np.power(x,d)\n",
    "        X = np.concatenate((X,temp),axis=1)\n",
    "    ones = np.ones(100).reshape(-1,1)\n",
    "    X = np.concatenate((X,ones),axis=1)\n",
    "    return X\n",
    "\n",
    "X = gen_Xmatrix(d)\n",
    "print(X.shape)"
   ]
  },
  {
   "cell_type": "code",
   "execution_count": 32,
   "metadata": {},
   "outputs": [
    {
     "name": "stdout",
     "output_type": "stream",
     "text": [
      "(7, 10)\n",
      "(100, 10)\n"
     ]
    }
   ],
   "source": [
    "w_exp = np.random.rand(m*k).reshape(m,k)\n",
    "print(w_exp.shape)\n",
    "\n",
    "y_exp = np.matmul(X,w_exp)\n",
    "\n",
    "print(y_exp.shape)"
   ]
  },
  {
   "cell_type": "markdown",
   "metadata": {},
   "source": [
    "### Error function"
   ]
  },
  {
   "cell_type": "code",
   "execution_count": 57,
   "metadata": {},
   "outputs": [],
   "source": [
    "def err_fun(w):\n",
    "    w1 = w.reshape(m,k)\n",
    "    tmp = np.matmul(X,w1)\n",
    "    out = np.trace(np.matmul((tmp-y_exp).T,(tmp-y_exp)))\n",
    "    return out"
   ]
  },
  {
   "cell_type": "code",
   "execution_count": 58,
   "metadata": {},
   "outputs": [],
   "source": [
    "w_init = np.random.rand(w_exp.size)\n",
    "res = minimize(fun = err_fun, x0 = w_init)"
   ]
  },
  {
   "cell_type": "code",
   "execution_count": 59,
   "metadata": {},
   "outputs": [],
   "source": [
    "w_pred = res.x.reshape(m,k)"
   ]
  },
  {
   "cell_type": "code",
   "execution_count": 60,
   "metadata": {},
   "outputs": [
    {
     "name": "stdout",
     "output_type": "stream",
     "text": [
      "(100, 10)\n"
     ]
    }
   ],
   "source": [
    "y_pred = np.matmul(X,w_pred)\n",
    "print(y_pred.shape)"
   ]
  },
  {
   "cell_type": "markdown",
   "metadata": {},
   "source": [
    "### Function to plot graph of k variate regression"
   ]
  },
  {
   "cell_type": "code",
   "execution_count": 61,
   "metadata": {},
   "outputs": [],
   "source": [
    "def fun_plot(k,y):\n",
    "    for i in range(k):\n",
    "        plt.plot(x,y[:,i],label=\"feature %d\" % (i+1))\n",
    "    plt.legend(loc='upper left')"
   ]
  },
  {
   "cell_type": "code",
   "execution_count": 62,
   "metadata": {},
   "outputs": [
    {
     "data": {
      "image/png": "[encoded data removed]",
      "text/plain": [
       "<Figure size 432x288 with 2 Axes>"
      ]
     },
     "metadata": {
      "needs_background": "light"
     },
     "output_type": "display_data"
    }
   ],
   "source": [
    "plt.subplot(121)\n",
    "plt.title(\"Predicted\")\n",
    "fun_plot(k,y_pred)\n",
    "plt.subplot(122)\n",
    "plt.title(\"Ground Truth\")\n",
    "fun_plot(k,y_exp)\n"
   ]
  },
  {
   "cell_type": "code",
   "execution_count": 65,
   "metadata": {},
   "outputs": [
    {
     "name": "stdout",
     "output_type": "stream",
     "text": [
      "(1797, 64)\n",
      "(1797, 48)\n",
      "(1797, 16)\n"
     ]
    }
   ],
   "source": [
    "digits = datasets.load_digits()\n",
    "\n",
    "data = digits.data\n",
    "print(data.shape)\n",
    "\n",
    "parts = np.hsplit(data,4)\n",
    "\n",
    "X = np.hstack((parts[0],parts[1]))\n",
    "X = np.hstack((X,parts[2]))\n",
    "\n",
    "Y = parts[3]\n",
    "\n",
    "print(X.shape)\n",
    "print(Y.shape)"
   ]
  },
  {
   "cell_type": "code",
   "execution_count": 67,
   "metadata": {},
   "outputs": [],
   "source": [
    "alpha = 0.0000001\n",
    "n_iter = 5000\n",
    "w_init = np.random.rand(48,16)\n",
    "w_old = w_init\n",
    "for i in range(n_iter):\n",
    "    pred = np.matmul(X,w_old)\n",
    "    grad = 2*np.matmul(X.T, (pred-Y))\n",
    "    w_old = w_old - (alpha*grad)\n"
   ]
  },
  {
   "cell_type": "code",
   "execution_count": 69,
   "metadata": {},
   "outputs": [
    {
     "name": "stdout",
     "output_type": "stream",
     "text": [
      "(1797, 16)\n"
     ]
    }
   ],
   "source": [
    "y_predicted = np.matmul(X,w_old)\n",
    "print(y_predicted.shape)"
   ]
  },
  {
   "cell_type": "code",
   "execution_count": null,
   "metadata": {},
   "outputs": [],
   "source": [
    "%matplotlib inline\n",
    "data_gen = np.hstack((X,abs(y_predicted)))\n",
    "\n",
    "index = 41\n",
    "print(\"Original Image:\")\n",
    "image_org = data[index].reshape((8,8))\n",
    "plt.imshow(image_org)\n",
    "plt.show()\n",
    "print(\"Generated Image\")\n",
    "image_gen = data_gen[index].reshape((8,8))\n",
    "plt.imshow(image_gen)\n",
    "plt.show()"
   ]
  },
  {
   "cell_type": "code",
   "execution_count": null,
   "metadata": {},
   "outputs": [],
   "source": [
    "Difference = image_org - image_gen\n",
    "res1 = np.count_nonzero(Difference)"
   ]
  },
  {
   "cell_type": "code",
   "execution_count": 75,
   "metadata": {},
   "outputs": [
    {
     "name": "stdout",
     "output_type": "stream",
     "text": [
      "downloading Olivetti faces from https://ndownloader.figshare.com/files/5976027 to /home/iit-4/scikit_learn_data\n",
      "(400, 4096)\n",
      "(400, 3072)\n",
      "(400, 1024)\n"
     ]
    }
   ],
   "source": [
    "faces = datasets.fetch_olivetti_faces()\n",
    "\n",
    "data = faces.data\n",
    "print(data.shape)\n",
    "\n",
    "parts = np.hsplit(data,4)\n",
    "\n",
    "X = np.hstack((parts[0],parts[1]))\n",
    "X = np.hstack((X,parts[2]))\n",
    "\n",
    "Y = parts[3]\n",
    "\n",
    "print(X.shape)\n",
    "print(Y.shape)"
   ]
  },
  {
   "cell_type": "code",
   "execution_count": 77,
   "metadata": {},
   "outputs": [],
   "source": [
    "alpha = 0.0000001\n",
    "n_iter = 5000\n",
    "w_init = np.random.rand(3072,1024)\n",
    "w_old = w_init\n",
    "for i in range(n_iter):\n",
    "    pred = np.matmul(X,w_old)\n",
    "    grad = 2*np.matmul(X.T, (pred-Y))\n",
    "    w_old = w_old - (alpha*grad)\n"
   ]
  },
  {
   "cell_type": "code",
   "execution_count": 90,
   "metadata": {},
   "outputs": [],
   "source": [
    "def err_fun1(w):\n",
    "    w1 = w.reshape(3072,1024)\n",
    "    tmp = np.matmul(X,w1)\n",
    "    out = np.trace(np.matmul((tmp-Y).T,(tmp-Y)))\n",
    "    return out"
   ]
  },
  {
   "cell_type": "code",
   "execution_count": null,
   "metadata": {},
   "outputs": [],
   "source": [
    "res = minimize(fun=err_fun1,x0=w_init)"
   ]
  },
  {
   "cell_type": "code",
   "execution_count": 78,
   "metadata": {},
   "outputs": [
    {
     "name": "stdout",
     "output_type": "stream",
     "text": [
      "(400, 1024)\n"
     ]
    }
   ],
   "source": [
    "y_predicted = np.matmul(X,w_old)\n",
    "print(y_predicted.shape)"
   ]
  },
  {
   "cell_type": "code",
   "execution_count": 84,
   "metadata": {},
   "outputs": [
    {
     "data": {
      "image/png": "[encoded data removed]",
      "text/plain": [
       "<Figure size 432x288 with 1 Axes>"
      ]
     },
     "metadata": {
      "needs_background": "light"
     },
     "output_type": "display_data"
    },
    {
     "data": {
      "image/png": "[encoded data removed]",
      "text/plain": [
       "<Figure size 432x288 with 1 Axes>"
      ]
     },
     "metadata": {
      "needs_background": "light"
     },
     "output_type": "display_data"
    }
   ],
   "source": [
    "%matplotlib inline\n",
    "data_gen = np.hstack((X,abs(y_predicted)))\n",
    "\n",
    "index = 39\n",
    "\n",
    "image_org = data[index].reshape((64,64))\n",
    "plt.imshow(image_org)\n",
    "plt.show()\n",
    "image_gen = data_gen[index].reshape((64,64))\n",
    "plt.imshow(image_gen)\n",
    "plt.show()"
   ]
  }
 ],
 "metadata": {
  "kernelspec": {
   "display_name": "Python 3",
   "language": "python",
   "name": "python3"
  },
  "language_info": {
   "codemirror_mode": {
    "name": "ipython",
    "version": 3
   },
   "file_extension": ".py",
   "mimetype": "text/x-python",
   "name": "python",
   "nbconvert_exporter": "python",
   "pygments_lexer": "ipython3",
   "version": "3.7.3"
  }
 },
 "nbformat": 4,
 "nbformat_minor": 2
}
