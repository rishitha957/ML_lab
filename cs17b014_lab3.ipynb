{
 "cells": [
  {
   "cell_type": "code",
   "execution_count": 53,
   "metadata": {},
   "outputs": [],
   "source": [
    "import numpy as np\n",
    "import matplotlib.pyplot as plt\n",
    "from scipy.optimize import minimize"
   ]
  },
  {
   "cell_type": "code",
   "execution_count": 44,
   "metadata": {},
   "outputs": [
    {
     "name": "stdout",
     "output_type": "stream",
     "text": [
      "(100, 1)\n",
      "[[1.10625896]\n",
      " [1.73502223]\n",
      " [1.57689675]\n",
      " [0.95125835]\n",
      " [0.45622655]\n",
      " [1.91224187]\n",
      " [1.4241216 ]\n",
      " [1.92682994]\n",
      " [1.32339565]\n",
      " [1.95699195]]\n",
      "[[ 3.65230503]\n",
      " [ 3.96262278]\n",
      " [ 6.02917283]\n",
      " [-0.19153316]\n",
      " [ 0.71021987]\n",
      " [ 5.91280461]\n",
      " [ 4.6708647 ]\n",
      " [ 4.96007928]\n",
      " [ 3.60840988]\n",
      " [ 5.15725142]]\n"
     ]
    }
   ],
   "source": [
    "x1 = 2*np.random.rand(100,1)\n",
    "y = 3*x1 + np.random.randn(100,1)\n",
    "\n",
    "print(x1.shape)\n",
    "print(x1[0:10])\n",
    "print(y[0:10])"
   ]
  },
  {
   "cell_type": "code",
   "execution_count": 45,
   "metadata": {},
   "outputs": [
    {
     "name": "stdout",
     "output_type": "stream",
     "text": [
      "[[1.10625896 1.        ]\n",
      " [1.73502223 1.        ]\n",
      " [1.57689675 1.        ]\n",
      " [0.95125835 1.        ]\n",
      " [0.45622655 1.        ]\n",
      " [1.91224187 1.        ]\n",
      " [1.4241216  1.        ]\n",
      " [1.92682994 1.        ]\n",
      " [1.32339565 1.        ]\n",
      " [1.95699195 1.        ]]\n"
     ]
    }
   ],
   "source": [
    "ones_col = np.ones((100,1))\n",
    "x = np.concatenate((x1,ones_col),axis=1)\n",
    "print(x[0:10])"
   ]
  },
  {
   "cell_type": "code",
   "execution_count": 46,
   "metadata": {},
   "outputs": [
    {
     "data": {
      "text/plain": [
       "[<matplotlib.lines.Line2D at 0x7f3ebe70ecf8>]"
      ]
     },
     "execution_count": 46,
     "metadata": {},
     "output_type": "execute_result"
    },
    {
     "data": {
      "image/png": "[encoded data removed]",
      "text/plain": [
       "<Figure size 432x288 with 1 Axes>"
      ]
     },
     "metadata": {
      "needs_background": "light"
     },
     "output_type": "display_data"
    }
   ],
   "source": [
    "plt.plot(x1,y,'b.')"
   ]
  },
  {
   "cell_type": "code",
   "execution_count": 62,
   "metadata": {},
   "outputs": [],
   "source": [
    "alpha = 0.1\n",
    "n_iter = 1000000"
   ]
  },
  {
   "cell_type": "markdown",
   "metadata": {},
   "source": [
    "# y = m*x"
   ]
  },
  {
   "cell_type": "markdown",
   "metadata": {},
   "source": [
    "## with hand-crafted gradient"
   ]
  },
  {
   "cell_type": "code",
   "execution_count": 63,
   "metadata": {},
   "outputs": [
    {
     "name": "stdout",
     "output_type": "stream",
     "text": [
      "[[2.94482089]]\n"
     ]
    }
   ],
   "source": [
    "w_iter = np.random.randn(1,1)\n",
    "w_old = w_iter\n",
    "\n",
    "for i in range(n_iter):\n",
    "    temp = np.matmul(x1,w_old) - y\n",
    "    grad = 2*np.matmul(x1.T,temp)/x1.shape[0]\n",
    "    w_old = w_old - alpha*grad\n",
    "    \n",
    "print(w_old)"
   ]
  },
  {
   "cell_type": "markdown",
   "metadata": {},
   "source": [
    "## Scipy minimize"
   ]
  },
  {
   "cell_type": "code",
   "execution_count": 75,
   "metadata": {},
   "outputs": [],
   "source": [
    "def fun_error(w):\n",
    "    diff = np.matmul(w,x1.T)-y.T\n",
    "    mul = np.matmul(diff,diff.T)\n",
    "    return mul[0][0]"
   ]
  },
  {
   "cell_type": "code",
   "execution_count": 79,
   "metadata": {},
   "outputs": [],
   "source": [
    "def fun_grad_error(w):\n",
    "    grad_val = 2*np.matmul( np.matmul(w, x1.T) - y.T, x1 )/x1.shape[0]\n",
    "    return np.concatenate(grad_val)"
   ]
  },
  {
   "cell_type": "code",
   "execution_count": 80,
   "metadata": {},
   "outputs": [
    {
     "name": "stdout",
     "output_type": "stream",
     "text": [
      "[2.94482089]\n"
     ]
    }
   ],
   "source": [
    "res = minimize(fun=fun_error, x0=w_iter, jac=fun_grad_error,method='BFGS')\n",
    "print(res.x)"
   ]
  },
  {
   "cell_type": "code",
   "execution_count": 58,
   "metadata": {},
   "outputs": [
    {
     "data": {
      "text/plain": [
       "[<matplotlib.lines.Line2D at 0x7f3ebd2424a8>]"
      ]
     },
     "execution_count": 58,
     "metadata": {},
     "output_type": "execute_result"
    },
    {
     "data": {
      "image/png": "[encoded data removed]",
      "text/plain": [
       "<Figure size 432x288 with 1 Axes>"
      ]
     },
     "metadata": {
      "needs_background": "light"
     },
     "output_type": "display_data"
    }
   ],
   "source": [
    "y1 = w_old*x1\n",
    "\n",
    "plt.plot(x1,y,'b.')\n",
    "plt.plot(x1,y1,'r-')"
   ]
  },
  {
   "cell_type": "code",
   "execution_count": 81,
   "metadata": {},
   "outputs": [
    {
     "data": {
      "text/plain": [
       "[<matplotlib.lines.Line2D at 0x7f3eb406a9b0>]"
      ]
     },
     "execution_count": 81,
     "metadata": {},
     "output_type": "execute_result"
    },
    {
     "data": {
      "image/png": "[encoded data removed]",
      "text/plain": [
       "<Figure size 432x288 with 1 Axes>"
      ]
     },
     "metadata": {
      "needs_background": "light"
     },
     "output_type": "display_data"
    }
   ],
   "source": [
    "y1 = res.x*x1\n",
    "\n",
    "plt.plot(x1,y,'b.')\n",
    "plt.plot(x1,y1,'r-')"
   ]
  },
  {
   "cell_type": "markdown",
   "metadata": {},
   "source": [
    "# y = m*x + c"
   ]
  },
  {
   "cell_type": "code",
   "execution_count": 82,
   "metadata": {},
   "outputs": [
    {
     "name": "stdout",
     "output_type": "stream",
     "text": [
      "(100, 2) (2, 1) (100, 1)\n",
      "[[2.77069885]\n",
      " [0.22113325]]\n"
     ]
    }
   ],
   "source": [
    "w_iter = np.zeros((2,1))\n",
    "w_old = w_iter\n",
    "\n",
    "for i in range(n_iter):\n",
    "    temp = np.matmul(x,w_old)-y\n",
    "    grad = np.matmul(x.T,temp)/x.shape[0]\n",
    "    w_new = w_old - alpha*grad\n",
    "    w_old = w_new\n",
    "    \n",
    "print(w_old)"
   ]
  },
  {
   "cell_type": "code",
   "execution_count": 85,
   "metadata": {},
   "outputs": [
    {
     "data": {
      "text/plain": [
       "[<matplotlib.lines.Line2D at 0x7f3ebe9894a8>]"
      ]
     },
     "execution_count": 85,
     "metadata": {},
     "output_type": "execute_result"
    },
    {
     "data": {
      "image/png": "[encoded data removed]",
      "text/plain": [
       "<Figure size 432x288 with 1 Axes>"
      ]
     },
     "metadata": {
      "needs_background": "light"
     },
     "output_type": "display_data"
    }
   ],
   "source": [
    "y1 = np.matmul(x,w_old)\n",
    "plt.plot(x1,y,'b.')\n",
    "plt.plot(x1,y1,'r-')"
   ]
  },
  {
   "cell_type": "code",
   "execution_count": 89,
   "metadata": {},
   "outputs": [],
   "source": [
    "def fun_error(w):\n",
    "    diff = np.matmul(w,x.T)-y.T\n",
    "    mul = np.matmul(diff,diff.T)\n",
    "    return mul[0][0]"
   ]
  },
  {
   "cell_type": "code",
   "execution_count": 90,
   "metadata": {},
   "outputs": [],
   "source": [
    "def fun_grad_error(w):\n",
    "    grad_val = 2*np.matmul( np.matmul(w, x.T) - y.T, x )/x.shape[0]\n",
    "    return np.concatenate(grad_val)"
   ]
  },
  {
   "cell_type": "code",
   "execution_count": 91,
   "metadata": {},
   "outputs": [
    {
     "name": "stdout",
     "output_type": "stream",
     "text": [
      "[2.77069993 0.22113216]\n"
     ]
    }
   ],
   "source": [
    "res = minimize(fun=fun_error, x0=w_iter, jac=fun_grad_error,method='BFGS')\n",
    "print(res.x)"
   ]
  },
  {
   "cell_type": "code",
   "execution_count": 94,
   "metadata": {},
   "outputs": [
    {
     "data": {
      "text/plain": [
       "[<matplotlib.lines.Line2D at 0x7f3e901f5b70>]"
      ]
     },
     "execution_count": 94,
     "metadata": {},
     "output_type": "execute_result"
    },
    {
     "data": {
      "image/png": "[encoded data removed]",
      "text/plain": [
       "<Figure size 432x288 with 1 Axes>"
      ]
     },
     "metadata": {
      "needs_background": "light"
     },
     "output_type": "display_data"
    }
   ],
   "source": [
    "y1 = np.matmul(x,res.x)\n",
    "plt.plot(x1,y,'b.')\n",
    "plt.plot(x1,y1,'r-')"
   ]
  },
  {
   "cell_type": "markdown",
   "metadata": {},
   "source": [
    "# y = a*x^2 + b*x + c"
   ]
  },
  {
   "cell_type": "code",
   "execution_count": 147,
   "metadata": {},
   "outputs": [
    {
     "data": {
      "text/plain": [
       "[<matplotlib.lines.Line2D at 0x7f3e61306630>]"
      ]
     },
     "execution_count": 147,
     "metadata": {},
     "output_type": "execute_result"
    },
    {
     "data": {
      "image/png": "[encoded data removed]",
      "text/plain": [
       "<Figure size 432x288 with 1 Axes>"
      ]
     },
     "metadata": {
      "needs_background": "light"
     },
     "output_type": "display_data"
    }
   ],
   "source": [
    "x1 = np.random.rand(100,1)\n",
    "y = 3 * x1*x1 - 9 * (x1) +12 + np.random.rand(100,1)\n",
    "\n",
    "plt.plot(x1,y,'b.')"
   ]
  },
  {
   "cell_type": "code",
   "execution_count": 148,
   "metadata": {},
   "outputs": [],
   "source": [
    "x3 = np.concatenate((np.square(x1),x1),axis =1 )\n",
    "ones_col = np.ones((100,1))\n",
    "x2 = np.concatenate((x3,ones_col),axis = 1)"
   ]
  },
  {
   "cell_type": "code",
   "execution_count": 149,
   "metadata": {},
   "outputs": [
    {
     "name": "stdout",
     "output_type": "stream",
     "text": [
      "[[ 2.62247977]\n",
      " [-8.540585  ]\n",
      " [12.3890242 ]]\n"
     ]
    }
   ],
   "source": [
    "alpha = 0.1\n",
    "n_iter = 10000\n",
    "w_iter = np.random.rand(3,1)\n",
    "\n",
    "w_old = w_iter\n",
    "\n",
    "for i in range(n_iter):\n",
    "    temp = np.matmul(x2,w_old)-y\n",
    "    grad = np.matmul(x2.T,temp)/x2.shape[0]\n",
    "    w_new = w_old - alpha*grad\n",
    "    w_old = w_new\n",
    "    \n",
    "print(w_old)"
   ]
  },
  {
   "cell_type": "markdown",
   "metadata": {},
   "source": [
    "plt.plot(x1,y,'b.')\n",
    "\n",
    "y1 = np.matmul(x2,w_old)\n",
    "\n",
    "plt.plot(x1,y1,'r.')"
   ]
  },
  {
   "cell_type": "code",
   "execution_count": 160,
   "metadata": {},
   "outputs": [],
   "source": [
    "def fun_error(w):\n",
    "    diff = np.matmul(w,x2.T)-y.T\n",
    "    mul = np.matmul(diff,diff.T)\n",
    "    return mul[0][0]"
   ]
  },
  {
   "cell_type": "code",
   "execution_count": 163,
   "metadata": {},
   "outputs": [],
   "source": [
    "def fun_grad_error(w):\n",
    "    grad_val = 2*np.matmul( np.matmul(w, x2.T) - y.T, x2 )/x2.shape[0]\n",
    "    return np.concatenate(grad_val)"
   ]
  },
  {
   "cell_type": "code",
   "execution_count": 164,
   "metadata": {},
   "outputs": [
    {
     "name": "stdout",
     "output_type": "stream",
     "text": [
      "[ 3.01001953 -8.93144043 12.45099094]\n"
     ]
    }
   ],
   "source": [
    "res = minimize(fun=fun_error, x0=w_iter, jac=fun_grad_error,method='BFGS')\n",
    "print(res.x)"
   ]
  },
  {
   "cell_type": "code",
   "execution_count": 165,
   "metadata": {},
   "outputs": [
    {
     "data": {
      "text/plain": [
       "[<matplotlib.lines.Line2D at 0x7f3e6131cc18>]"
      ]
     },
     "execution_count": 165,
     "metadata": {},
     "output_type": "execute_result"
    },
    {
     "data": {
      "image/png": "[encoded data removed]",
      "text/plain": [
       "<Figure size 432x288 with 1 Axes>"
      ]
     },
     "metadata": {
      "needs_background": "light"
     },
     "output_type": "display_data"
    }
   ],
   "source": [
    "plt.plot(x1,y,'b.')\n",
    "\n",
    "y1 = np.matmul(x2,res.x)\n",
    "\n",
    "plt.plot(x1,y1,'r.')"
   ]
  },
  {
   "cell_type": "markdown",
   "metadata": {},
   "source": [
    "## For K degree polynomial"
   ]
  },
  {
   "cell_type": "code",
   "execution_count": 166,
   "metadata": {},
   "outputs": [
    {
     "data": {
      "text/plain": [
       "[<matplotlib.lines.Line2D at 0x7f3e60156518>]"
      ]
     },
     "execution_count": 166,
     "metadata": {},
     "output_type": "execute_result"
    },
    {
     "data": {
      "image/png": "[encoded data removed]",
      "text/plain": [
       "<Figure size 432x288 with 1 Axes>"
      ]
     },
     "metadata": {
      "needs_background": "light"
     },
     "output_type": "display_data"
    }
   ],
   "source": [
    "x1 = np.random.rand(100,1)\n",
    "k = 6 #assume k is 6\n",
    "y = 3 * x1**k - 9 * (x1)**3 +12*x1 + np.random.rand(100,1)\n",
    "\n",
    "plt.plot(x1,y,'b.')"
   ]
  },
  {
   "cell_type": "markdown",
   "metadata": {},
   "source": [
    "### Concatenating and forming X array"
   ]
  },
  {
   "cell_type": "code",
   "execution_count": 177,
   "metadata": {},
   "outputs": [],
   "source": [
    "def gen_Xmatrix(k):\n",
    "    X = np.power(x1,k)\n",
    "    k-=1\n",
    "    while(k>=1):\n",
    "        temp = np.power(x1,k)\n",
    "        temp1 = X\n",
    "        X = np.concatenate((temp1,temp),axis=1)\n",
    "        k-=1\n",
    "    ones_col = np.ones(100).reshape(-1,1)\n",
    "    temp2 = X\n",
    "    X = np.concatenate((temp2,ones_col),axis=1)\n",
    "    return X\n"
   ]
  },
  {
   "cell_type": "code",
   "execution_count": 178,
   "metadata": {},
   "outputs": [
    {
     "name": "stdout",
     "output_type": "stream",
     "text": [
      "(100, 7)\n"
     ]
    }
   ],
   "source": [
    "xk = gen_Xmatrix(6)\n",
    "print(xk.shape)"
   ]
  },
  {
   "cell_type": "code",
   "execution_count": 179,
   "metadata": {},
   "outputs": [
    {
     "name": "stdout",
     "output_type": "stream",
     "text": [
      "[[ 0.77063449]\n",
      " [-0.34160015]\n",
      " [-2.23056979]\n",
      " [-2.33786235]\n",
      " [-0.4115086 ]\n",
      " [ 9.70209237]\n",
      " [ 0.96723771]]\n"
     ]
    }
   ],
   "source": [
    "alpha = 0.1\n",
    "n_iter = 10000\n",
    "w_iter = np.random.rand(7,1)\n",
    "\n",
    "w_old = w_iter\n",
    "\n",
    "for i in range(n_iter):\n",
    "    temp = np.matmul(xk,w_old)-y\n",
    "    grad = np.matmul(xk.T,temp)/xk.shape[0]\n",
    "    w_new = w_old - alpha*grad\n",
    "    w_old = w_new\n",
    "    \n",
    "print(w_old)"
   ]
  },
  {
   "cell_type": "code",
   "execution_count": 180,
   "metadata": {},
   "outputs": [
    {
     "data": {
      "text/plain": [
       "[<matplotlib.lines.Line2D at 0x7f3e600f9978>]"
      ]
     },
     "execution_count": 180,
     "metadata": {},
     "output_type": "execute_result"
    },
    {
     "data": {
      "image/png": "[encoded data removed]",
      "text/plain": [
       "<Figure size 432x288 with 1 Axes>"
      ]
     },
     "metadata": {
      "needs_background": "light"
     },
     "output_type": "display_data"
    }
   ],
   "source": [
    "plt.plot(x1,y,'b.')\n",
    "\n",
    "y1 = np.matmul(xk,w_old)\n",
    "\n",
    "plt.plot(x1,y1,'r.')"
   ]
  },
  {
   "cell_type": "code",
   "execution_count": 181,
   "metadata": {},
   "outputs": [],
   "source": [
    "def fun_error(w):\n",
    "    diff = np.matmul(w,xk.T)-y.T\n",
    "    mul = np.matmul(diff,diff.T)\n",
    "    return mul[0][0]"
   ]
  },
  {
   "cell_type": "code",
   "execution_count": 182,
   "metadata": {},
   "outputs": [],
   "source": [
    "def fun_grad_error(w):\n",
    "    grad_val = 2*np.matmul( np.matmul(w, xk.T) - y.T, xk )/xk.shape[0]\n",
    "    return np.concatenate(grad_val)"
   ]
  },
  {
   "cell_type": "code",
   "execution_count": 183,
   "metadata": {},
   "outputs": [
    {
     "name": "stdout",
     "output_type": "stream",
     "text": [
      "[ 39.72392279 -53.72359358 -20.62817312  60.10217276 -37.58212675\n",
      "  18.61999386   0.29757322]\n"
     ]
    }
   ],
   "source": [
    "res = minimize(fun=fun_error, x0=w_iter, jac=fun_grad_error,method='BFGS')\n",
    "print(res.x)"
   ]
  },
  {
   "cell_type": "code",
   "execution_count": 184,
   "metadata": {},
   "outputs": [
    {
     "data": {
      "text/plain": [
       "[<matplotlib.lines.Line2D at 0x7f3e60081390>]"
      ]
     },
     "execution_count": 184,
     "metadata": {},
     "output_type": "execute_result"
    },
    {
     "data": {
      "image/png": "[encoded data removed]",
      "text/plain": [
       "<Figure size 432x288 with 1 Axes>"
      ]
     },
     "metadata": {
      "needs_background": "light"
     },
     "output_type": "display_data"
    }
   ],
   "source": [
    "plt.plot(x1,y,'b.')\n",
    "\n",
    "y1 = np.matmul(xk,res.x)\n",
    "\n",
    "plt.plot(x1,y1,'r.')"
   ]
  }
 ],
 "metadata": {
  "kernelspec": {
   "display_name": "Python 3",
   "language": "python",
   "name": "python3"
  },
  "language_info": {
   "codemirror_mode": {
    "name": "ipython",
    "version": 3
   },
   "file_extension": ".py",
   "mimetype": "text/x-python",
   "name": "python",
   "nbconvert_exporter": "python",
   "pygments_lexer": "ipython3",
   "version": "3.7.3"
  }
 },
 "nbformat": 4,
 "nbformat_minor": 2
}
